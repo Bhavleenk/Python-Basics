{
  "nbformat": 4,
  "nbformat_minor": 0,
  "metadata": {
    "colab": {
      "provenance": [],
      "authorship_tag": "ABX9TyNFDdoRO7UBLlXP2rF2OopW",
      "include_colab_link": true
    },
    "kernelspec": {
      "name": "python3",
      "display_name": "Python 3"
    },
    "language_info": {
      "name": "python"
    }
  },
  "cells": [
    {
      "cell_type": "markdown",
      "metadata": {
        "id": "view-in-github",
        "colab_type": "text"
      },
      "source": [
        "<a href=\"https://colab.research.google.com/github/Bhavleenk/PythonWithProjects/blob/main/PythonBasics.ipynb\" target=\"_parent\"><img src=\"https://colab.research.google.com/assets/colab-badge.svg\" alt=\"Open In Colab\"/></a>"
      ]
    },
    {
      "cell_type": "markdown",
      "source": [
        "# **PYTHON**"
      ],
      "metadata": {
        "id": "ozagMsTUMwYA"
      }
    },
    {
      "cell_type": "markdown",
      "source": [
        "## Syntax of a print statement:\n",
        "print(object(s), sep=separator, end=end, file=file, flush=flush)"
      ],
      "metadata": {
        "id": "esU5WEBCMiB6"
      }
    },
    {
      "cell_type": "markdown",
      "source": [
        "## **Modules**\n"
      ],
      "metadata": {
        "id": "965761X_FZXM"
      }
    },
    {
      "cell_type": "markdown",
      "source": [
        "### Module is like a code library which can be used to borrow the code writetn by somebody else in python program.\n",
        "## Two types :\n",
        "## **- Built-in**: Ready to import and use and ships with python interpreter, no need to install such modules.\n",
        "## **- External:** Imported from a third party file or can be installed using a package manager like pip or conda. Since this code is written by someone else, we can install different versions of a same module with time.\n",
        "\n",
        "## Note- Install a module using pip"
      ],
      "metadata": {
        "id": "CHqdr_jfJVPD"
      }
    },
    {
      "cell_type": "markdown",
      "source": [
        "### Using a Module in Python"
      ],
      "metadata": {
        "id": "VHvl91-cHfa7"
      }
    },
    {
      "cell_type": "code",
      "source": [
        "# import pandas\n",
        "# import hashlib\n",
        "# import tensorflow, etc."
      ],
      "metadata": {
        "id": "szlPOGwRHTsL"
      },
      "execution_count": null,
      "outputs": []
    },
    {
      "cell_type": "markdown",
      "source": [
        "## **Escape Sequence Characters**"
      ],
      "metadata": {
        "id": "imQ4yPWfJZJw"
      }
    },
    {
      "cell_type": "markdown",
      "source": [
        "### To insert characters that cannot be directly used in a string, we use escaoe sequence character.\n",
        "### An escape sequence character is a backslash '\\' followed by character you want.\n",
        "\n",
        "\\'\tSingle Quote\n",
        "\\\\\tBackslash\n",
        "\\n\tNew Line\n",
        "\\r\tCarriage Return\n",
        "\\t\tTab\n",
        "\\b\tBackspace\n",
        "\\f\tForm Feed\n",
        "\\ooo\tOctal value\n",
        "\\xhh\tHex value"
      ],
      "metadata": {
        "id": "etyvegkSJeUu"
      }
    },
    {
      "cell_type": "code",
      "source": [
        "# ex:\n",
        "print(\"Hey I am a \\\"good girl\\\"\\nand this viwer is also a good boy/girl\")"
      ],
      "metadata": {
        "colab": {
          "base_uri": "https://localhost:8080/"
        },
        "id": "jM3lGmbtKNOw",
        "outputId": "6b12b333-daca-4b8a-8907-448b9cd265df"
      },
      "execution_count": 2,
      "outputs": [
        {
          "output_type": "stream",
          "name": "stdout",
          "text": [
            "Hey I am a \"good girl\"\n",
            "and this viwer is also a good boy/girl\n"
          ]
        }
      ]
    },
    {
      "cell_type": "code",
      "source": [
        "print(\"Hey\",6,7,sep=\"~\", end=\"009\\n\")\n",
        "print(\"Bhavleen\")"
      ],
      "metadata": {
        "colab": {
          "base_uri": "https://localhost:8080/"
        },
        "id": "TYZxiINoK71t",
        "outputId": "a679eb32-f31a-40db-d485-bf986723bc2c"
      },
      "execution_count": 5,
      "outputs": [
        {
          "output_type": "stream",
          "name": "stdout",
          "text": [
            "Hey~6~7009\n",
            "Bhavleen\n"
          ]
        }
      ]
    },
    {
      "cell_type": "markdown",
      "source": [
        "## **Variables**"
      ],
      "metadata": {
        "id": "TsO1CC36KE6W"
      }
    },
    {
      "cell_type": "markdown",
      "source": [
        "### Container that holds data. Creating a variable is liek creating a placeholdeer in memory and assigning it some value."
      ],
      "metadata": {
        "id": "EhalNAIUNjcv"
      }
    },
    {
      "cell_type": "markdown",
      "source": [
        "## **Data Types**"
      ],
      "metadata": {
        "id": "dIHxrPQQNyY1"
      }
    },
    {
      "cell_type": "markdown",
      "source": [
        "### Specify the type of value the variable holds. This is required to avoid various kinds of errrs.\n",
        "**Numeric data types:** int, float, complex\n",
        "\n",
        "**String data types:** str\n",
        "\n",
        "**Sequence types:** list, tuple, range\n",
        "\n",
        "**Binary types:** bytes, bytearray, memoryview\n",
        "\n",
        "**Mapping data type:** dict\n",
        "\n",
        "**Boolean type:** bool\n",
        "\n",
        "**Set data types:** set, frozenset"
      ],
      "metadata": {
        "id": "DTHdS7_QN9Y0"
      }
    },
    {
      "cell_type": "code",
      "source": [
        "a = 100\n",
        "type(a)"
      ],
      "metadata": {
        "colab": {
          "base_uri": "https://localhost:8080/"
        },
        "id": "W31WWjiUORqB",
        "outputId": "69037d17-3eba-4aa6-8df4-8cb0c6f320a8"
      },
      "execution_count": 6,
      "outputs": [
        {
          "output_type": "execute_result",
          "data": {
            "text/plain": [
              "int"
            ]
          },
          "metadata": {},
          "execution_count": 6
        }
      ]
    },
    {
      "cell_type": "markdown",
      "source": [
        "## **Operators**"
      ],
      "metadata": {
        "id": "S_oVEsvrPw2h"
      }
    },
    {
      "cell_type": "markdown",
      "source": [
        "### Python has different types of operators for different operations. To create a calculator we require arithmetic operators.\n",
        "\n",
        "### **ARITHMETIC OPERATORS** <BR>\n",
        "### +, -, *, /, %, //"
      ],
      "metadata": {
        "id": "BM9WF63MQY37"
      }
    },
    {
      "cell_type": "markdown",
      "source": [],
      "metadata": {
        "id": "b3dz1tr1Q3Vb"
      }
    }
  ]
}