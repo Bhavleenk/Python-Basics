{
  "nbformat": 4,
  "nbformat_minor": 0,
  "metadata": {
    "colab": {
      "provenance": [],
      "authorship_tag": "ABX9TyMsQbwgw28rwXx60Ex3CI/O",
      "include_colab_link": true
    },
    "kernelspec": {
      "name": "python3",
      "display_name": "Python 3"
    },
    "language_info": {
      "name": "python"
    }
  },
  "cells": [
    {
      "cell_type": "markdown",
      "metadata": {
        "id": "view-in-github",
        "colab_type": "text"
      },
      "source": [
        "<a href=\"https://colab.research.google.com/github/Bhavleenk/PythonWithProjects/blob/main/PythonBasics.ipynb\" target=\"_parent\"><img src=\"https://colab.research.google.com/assets/colab-badge.svg\" alt=\"Open In Colab\"/></a>"
      ]
    },
    {
      "cell_type": "markdown",
      "source": [
        "# **PYTHON**"
      ],
      "metadata": {
        "id": "ozagMsTUMwYA"
      }
    },
    {
      "cell_type": "markdown",
      "source": [
        "## Syntax of a print statement:\n",
        "print(object(s), sep=separator, end=end, file=file, flush=flush)"
      ],
      "metadata": {
        "id": "esU5WEBCMiB6"
      }
    },
    {
      "cell_type": "markdown",
      "source": [
        "## **Modules**\n"
      ],
      "metadata": {
        "id": "965761X_FZXM"
      }
    },
    {
      "cell_type": "markdown",
      "source": [
        "### Module is like a code library which can be used to borrow the code writetn by somebody else in python program.\n",
        "## Two types :\n",
        "## **- Built-in**: Ready to import and use and ships with python interpreter, no need to install such modules.\n",
        "## **- External:** Imported from a third party file or can be installed using a package manager like pip or conda. Since this code is written by someone else, we can install different versions of a same module with time.\n",
        "\n",
        "## Note- Install a module using pip"
      ],
      "metadata": {
        "id": "CHqdr_jfJVPD"
      }
    },
    {
      "cell_type": "markdown",
      "source": [
        "### Using a Module in Python"
      ],
      "metadata": {
        "id": "VHvl91-cHfa7"
      }
    },
    {
      "cell_type": "code",
      "source": [
        "# import pandas\n",
        "# import hashlib\n",
        "# import tensorflow, etc."
      ],
      "metadata": {
        "id": "szlPOGwRHTsL"
      },
      "execution_count": null,
      "outputs": []
    },
    {
      "cell_type": "markdown",
      "source": [
        "## **Escape Sequence Characters**"
      ],
      "metadata": {
        "id": "imQ4yPWfJZJw"
      }
    },
    {
      "cell_type": "markdown",
      "source": [
        "### To insert characters that cannot be directly used in a string, we use escaoe sequence character.\n",
        "### An escape sequence character is a backslash '\\' followed by character you want.\n",
        "\n",
        "\\'\tSingle Quote\n",
        "\\\\\tBackslash\n",
        "\\n\tNew Line\n",
        "\\r\tCarriage Return\n",
        "\\t\tTab\n",
        "\\b\tBackspace\n",
        "\\f\tForm Feed\n",
        "\\ooo\tOctal value\n",
        "\\xhh\tHex value"
      ],
      "metadata": {
        "id": "etyvegkSJeUu"
      }
    },
    {
      "cell_type": "code",
      "source": [
        "# ex:\n",
        "print(\"Hey I am a \\\"good girl\\\"\\nand this viwer is also a good boy/girl\")"
      ],
      "metadata": {
        "colab": {
          "base_uri": "https://localhost:8080/"
        },
        "id": "jM3lGmbtKNOw",
        "outputId": "6b12b333-daca-4b8a-8907-448b9cd265df"
      },
      "execution_count": 2,
      "outputs": [
        {
          "output_type": "stream",
          "name": "stdout",
          "text": [
            "Hey I am a \"good girl\"\n",
            "and this viwer is also a good boy/girl\n"
          ]
        }
      ]
    },
    {
      "cell_type": "code",
      "source": [
        "print(\"Hey\",6,7,sep=\"~\", end=\"009\\n\")\n",
        "print(\"Bhavleen\")"
      ],
      "metadata": {
        "colab": {
          "base_uri": "https://localhost:8080/"
        },
        "id": "TYZxiINoK71t",
        "outputId": "a679eb32-f31a-40db-d485-bf986723bc2c"
      },
      "execution_count": 5,
      "outputs": [
        {
          "output_type": "stream",
          "name": "stdout",
          "text": [
            "Hey~6~7009\n",
            "Bhavleen\n"
          ]
        }
      ]
    },
    {
      "cell_type": "markdown",
      "source": [
        "## **Variables**"
      ],
      "metadata": {
        "id": "TsO1CC36KE6W"
      }
    },
    {
      "cell_type": "markdown",
      "source": [
        "### Container that holds data. Creating a variable is liek creating a placeholdeer in memory and assigning it some value."
      ],
      "metadata": {
        "id": "EhalNAIUNjcv"
      }
    },
    {
      "cell_type": "markdown",
      "source": [
        "## **Data Types**"
      ],
      "metadata": {
        "id": "dIHxrPQQNyY1"
      }
    },
    {
      "cell_type": "markdown",
      "source": [
        "### Specify the type of value the variable holds. This is required to avoid various kinds of errrs.\n",
        "**Numeric data types:** int, float, complex\n",
        "\n",
        "**String data types:** str\n",
        "\n",
        "**Sequence types:** list, tuple, range\n",
        "\n",
        "**Binary types:** bytes, bytearray, memoryview\n",
        "\n",
        "**Mapping data type:** dict\n",
        "\n",
        "**Boolean type:** bool\n",
        "\n",
        "**Set data types:** set, frozenset"
      ],
      "metadata": {
        "id": "DTHdS7_QN9Y0"
      }
    },
    {
      "cell_type": "code",
      "source": [
        "a = 100\n",
        "type(a)"
      ],
      "metadata": {
        "colab": {
          "base_uri": "https://localhost:8080/"
        },
        "id": "W31WWjiUORqB",
        "outputId": "69037d17-3eba-4aa6-8df4-8cb0c6f320a8"
      },
      "execution_count": 6,
      "outputs": [
        {
          "output_type": "execute_result",
          "data": {
            "text/plain": [
              "int"
            ]
          },
          "metadata": {},
          "execution_count": 6
        }
      ]
    },
    {
      "cell_type": "markdown",
      "source": [
        "## **Operators**"
      ],
      "metadata": {
        "id": "S_oVEsvrPw2h"
      }
    },
    {
      "cell_type": "markdown",
      "source": [
        "### Python has different types of operators for different operations. To create a calculator we require arithmetic operators.\n",
        "\n",
        "### **ARITHMETIC OPERATORS** <BR>\n",
        "### +, -, *, /, %, //"
      ],
      "metadata": {
        "id": "BM9WF63MQY37"
      }
    },
    {
      "cell_type": "markdown",
      "source": [
        "## **Typecasting**"
      ],
      "metadata": {
        "id": "b3dz1tr1Q3Vb"
      }
    },
    {
      "cell_type": "markdown",
      "source": [
        "### The conversion of one data type into the other data type is known as type casting in python or type conversion in python.\n",
        "### Python supports a wide variety of functions or methods like: int(), float(), str(), ord(), hex(), oct(), tuple(), set(), list(), dict(), etc.\n",
        "\n",
        "### **Two types:**\n",
        "### - **Explicit Conversion:** The conversion of one data type into another data type, done via developer or programer's intervention or manually as per the requirement, is known as explicit type conversion.\n",
        "### - **Implicit Conversion:** Data types in python do not have the same level i.e. ordering of the data types is no the same in python. Some of the data types have higer order and some have lower order. While performing any operations on variables with different data types in oython,one of the variable's data types will be changed to the higher data type. According to the level, one data type is converted unto other by the python interpreter itself."
      ],
      "metadata": {
        "id": "Q6jMlKV2UBjM"
      }
    },
    {
      "cell_type": "code",
      "source": [
        "# Explicit Type Cast\n",
        "a = \"1\"\n",
        "b = \"2\"\n",
        "print(int(a)+int(b))"
      ],
      "metadata": {
        "colab": {
          "base_uri": "https://localhost:8080/"
        },
        "id": "hmljBfNkVL0j",
        "outputId": "c06a8229-3add-426d-9076-eac2c0ad57ee"
      },
      "execution_count": 7,
      "outputs": [
        {
          "output_type": "stream",
          "name": "stdout",
          "text": [
            "3\n"
          ]
        }
      ]
    },
    {
      "cell_type": "code",
      "source": [
        "# Iplicit Type Cast\n",
        "c=1.9\n",
        "d=8\n",
        "e=print(c+d)\n",
        "type(e)"
      ],
      "metadata": {
        "colab": {
          "base_uri": "https://localhost:8080/"
        },
        "id": "2ZBsBpoyWyjp",
        "outputId": "e8ba1e47-c311-4c00-889f-ff583f827187"
      },
      "execution_count": 8,
      "outputs": [
        {
          "output_type": "stream",
          "name": "stdout",
          "text": [
            "9.9\n"
          ]
        },
        {
          "output_type": "execute_result",
          "data": {
            "text/plain": [
              "NoneType"
            ]
          },
          "metadata": {},
          "execution_count": 8
        }
      ]
    },
    {
      "cell_type": "markdown",
      "source": [
        "## **Strings**"
      ],
      "metadata": {
        "id": "FaebWBbbYVsJ"
      }
    },
    {
      "cell_type": "markdown",
      "source": [
        "### In python, anything that you enclose between single or double quotation marks is considered a string. A string is essentially a sequence or array of textual data. Strings are used when working wiht Unicode characters. Strings are immutable."
      ],
      "metadata": {
        "id": "UcT2z2-wYbL-"
      }
    },
    {
      "cell_type": "code",
      "source": [
        "name = \"Bhavleen Kaur\"\n",
        "print(\"Hello \"+name)"
      ],
      "metadata": {
        "colab": {
          "base_uri": "https://localhost:8080/"
        },
        "id": "E-FVxn1dY3rm",
        "outputId": "26467e41-d146-44a5-92e2-40297d40b857"
      },
      "execution_count": 9,
      "outputs": [
        {
          "output_type": "stream",
          "name": "stdout",
          "text": [
            "Hello Bhavleen Kaur\n"
          ]
        }
      ]
    },
    {
      "cell_type": "code",
      "source": [
        "apple = \"He said, \\\"I want to eat an apple\\\"\\n\"\n",
        "print(apple)"
      ],
      "metadata": {
        "colab": {
          "base_uri": "https://localhost:8080/"
        },
        "id": "rmItDc6JZC-i",
        "outputId": "84df35aa-4dd3-4930-94ca-01541a012bcc"
      },
      "execution_count": 16,
      "outputs": [
        {
          "output_type": "stream",
          "name": "stdout",
          "text": [
            "He said, \"I want to eat an apple\"\n",
            "\n"
          ]
        }
      ]
    },
    {
      "cell_type": "markdown",
      "source": [
        "### Accessing Characters in a string"
      ],
      "metadata": {
        "id": "sKeduR5kaMYu"
      }
    },
    {
      "cell_type": "code",
      "source": [
        "print(name[0])\n",
        "print(name[1])"
      ],
      "metadata": {
        "colab": {
          "base_uri": "https://localhost:8080/"
        },
        "id": "9usNo3R1aQlg",
        "outputId": "c4acfbb8-5c15-4e40-9f59-3d7f3abc09ac"
      },
      "execution_count": 17,
      "outputs": [
        {
          "output_type": "stream",
          "name": "stdout",
          "text": [
            "B\n",
            "h\n"
          ]
        }
      ]
    },
    {
      "cell_type": "markdown",
      "source": [
        "### Looping through the string"
      ],
      "metadata": {
        "id": "eCxfNciOaYHd"
      }
    },
    {
      "cell_type": "code",
      "source": [
        "for character in name:\n",
        "  print(character)"
      ],
      "metadata": {
        "colab": {
          "base_uri": "https://localhost:8080/"
        },
        "id": "MaBq1-w2aXb5",
        "outputId": "1627eb18-d256-4a98-9fbb-c6f5f55fd11e"
      },
      "execution_count": 18,
      "outputs": [
        {
          "output_type": "stream",
          "name": "stdout",
          "text": [
            "B\n",
            "h\n",
            "a\n",
            "v\n",
            "l\n",
            "e\n",
            "e\n",
            "n\n",
            " \n",
            "K\n",
            "a\n",
            "u\n",
            "r\n"
          ]
        }
      ]
    },
    {
      "cell_type": "markdown",
      "source": [
        "### String Slicing"
      ],
      "metadata": {
        "id": "hQrvKlPFasC-"
      }
    },
    {
      "cell_type": "code",
      "source": [
        "print(name[0:6])"
      ],
      "metadata": {
        "colab": {
          "base_uri": "https://localhost:8080/"
        },
        "id": "Zp0O8NDyaujP",
        "outputId": "764f5578-d700-4a34-cf61-58945d11f696"
      },
      "execution_count": 19,
      "outputs": [
        {
          "output_type": "stream",
          "name": "stdout",
          "text": [
            "Bhavle\n"
          ]
        }
      ]
    },
    {
      "cell_type": "code",
      "source": [
        "fruit = \"Mango\"\n",
        "len1 = len(fruit)\n",
        "print(fruit, \"is a \", len1, \"letter word\")"
      ],
      "metadata": {
        "colab": {
          "base_uri": "https://localhost:8080/"
        },
        "id": "vqcPxxj4bA3_",
        "outputId": "ef591604-a81c-403e-fdaa-49a3b936898c"
      },
      "execution_count": 21,
      "outputs": [
        {
          "output_type": "stream",
          "name": "stdout",
          "text": [
            "Mango is a  5 letter word\n"
          ]
        }
      ]
    },
    {
      "cell_type": "code",
      "source": [
        "print(fruit[:len(fruit)-3])"
      ],
      "metadata": {
        "colab": {
          "base_uri": "https://localhost:8080/"
        },
        "id": "h2gvoYctbVQw",
        "outputId": "6dcbf8b8-3629-4faa-d6ce-2dedf9f652d9"
      },
      "execution_count": 23,
      "outputs": [
        {
          "output_type": "stream",
          "name": "stdout",
          "text": [
            "Ma\n"
          ]
        }
      ]
    },
    {
      "cell_type": "code",
      "source": [
        "print(fruit[-3:len(fruit)-1])"
      ],
      "metadata": {
        "colab": {
          "base_uri": "https://localhost:8080/"
        },
        "id": "sESJsgetbgC0",
        "outputId": "25368c18-d718-49c0-8d11-dc84ba7bf965"
      },
      "execution_count": 25,
      "outputs": [
        {
          "output_type": "stream",
          "name": "stdout",
          "text": [
            "ng\n"
          ]
        }
      ]
    },
    {
      "cell_type": "markdown",
      "source": [
        "### String Methods"
      ],
      "metadata": {
        "id": "AEVA05ugb-He"
      }
    },
    {
      "cell_type": "code",
      "source": [
        "a = 'bhavleen'"
      ],
      "metadata": {
        "id": "5HNJAdgqch6E"
      },
      "execution_count": 20,
      "outputs": []
    },
    {
      "cell_type": "code",
      "source": [
        "print(len(a))"
      ],
      "metadata": {
        "colab": {
          "base_uri": "https://localhost:8080/"
        },
        "id": "qf39vhD4ibpA",
        "outputId": "2bc8deb4-ec5b-4ba4-b7b1-83a1ea530782"
      },
      "execution_count": 2,
      "outputs": [
        {
          "output_type": "stream",
          "name": "stdout",
          "text": [
            "8\n"
          ]
        }
      ]
    },
    {
      "cell_type": "code",
      "source": [
        "print(a.upper())"
      ],
      "metadata": {
        "colab": {
          "base_uri": "https://localhost:8080/"
        },
        "id": "e15M3bR0idyj",
        "outputId": "ea0e692c-63fe-440a-d174-a0d08837ca64"
      },
      "execution_count": 21,
      "outputs": [
        {
          "output_type": "stream",
          "name": "stdout",
          "text": [
            "BHAVLEEN\n"
          ]
        }
      ]
    },
    {
      "cell_type": "code",
      "source": [
        "print(a.lower()) #this will not make changes to existing string, rather it will create a new string. Because strings are immutable."
      ],
      "metadata": {
        "colab": {
          "base_uri": "https://localhost:8080/"
        },
        "id": "SLYsVg4tihAG",
        "outputId": "d198b341-c9d4-4ce0-ce01-9c5255466d9c"
      },
      "execution_count": 22,
      "outputs": [
        {
          "output_type": "stream",
          "name": "stdout",
          "text": [
            "bhavleen\n"
          ]
        }
      ]
    },
    {
      "cell_type": "code",
      "source": [
        "b = '!!!Bhavleen!! !!!!!!!!!Bhavleen'"
      ],
      "metadata": {
        "id": "RQSDmFvwigwR"
      },
      "execution_count": 23,
      "outputs": []
    },
    {
      "cell_type": "code",
      "source": [
        "print(b.rstrip(\"!\"))"
      ],
      "metadata": {
        "colab": {
          "base_uri": "https://localhost:8080/"
        },
        "id": "DFX8iv05i3EZ",
        "outputId": "181178cf-d980-4782-f4cd-41b3f08dee97"
      },
      "execution_count": 24,
      "outputs": [
        {
          "output_type": "stream",
          "name": "stdout",
          "text": [
            "!!!Bhavleen!! !!!!!!!!!Bhavleen\n"
          ]
        }
      ]
    },
    {
      "cell_type": "code",
      "source": [
        "print(a.replace(\"Bhavleen\", \"sneha\"))"
      ],
      "metadata": {
        "colab": {
          "base_uri": "https://localhost:8080/"
        },
        "id": "SDbHmBvfjCIo",
        "outputId": "c1579afa-9d0a-47ce-b3b1-a22a9c1d476a"
      },
      "execution_count": 25,
      "outputs": [
        {
          "output_type": "stream",
          "name": "stdout",
          "text": [
            "bhavleen\n"
          ]
        }
      ]
    },
    {
      "cell_type": "code",
      "source": [
        "print(a.capitalize())"
      ],
      "metadata": {
        "colab": {
          "base_uri": "https://localhost:8080/"
        },
        "id": "xgB9yQvdjsdv",
        "outputId": "f39e03fb-77d1-47aa-d87e-47239ee852f8"
      },
      "execution_count": 26,
      "outputs": [
        {
          "output_type": "stream",
          "name": "stdout",
          "text": [
            "Bhavleen\n"
          ]
        }
      ]
    },
    {
      "cell_type": "code",
      "source": [
        "print(b.split(\" \"))"
      ],
      "metadata": {
        "colab": {
          "base_uri": "https://localhost:8080/"
        },
        "id": "GCJFokrcjIOL",
        "outputId": "a85bae55-baed-4305-87ea-6a0b7cb84752"
      },
      "execution_count": 16,
      "outputs": [
        {
          "output_type": "stream",
          "name": "stdout",
          "text": [
            "['!!!Bhavleen!!', '!!!!!!!!!Bhavleen']\n"
          ]
        }
      ]
    },
    {
      "cell_type": "code",
      "source": [
        "str1 = \"Welcome to the Console!!!\"\n",
        "print (len(str1))"
      ],
      "metadata": {
        "colab": {
          "base_uri": "https://localhost:8080/"
        },
        "id": "fKQ3462ejRdr",
        "outputId": "bebe29cd-f419-451e-885d-14550d95a5f7"
      },
      "execution_count": 28,
      "outputs": [
        {
          "output_type": "stream",
          "name": "stdout",
          "text": [
            "25\n"
          ]
        }
      ]
    },
    {
      "cell_type": "code",
      "source": [
        "print(len(str1.center(50)))"
      ],
      "metadata": {
        "colab": {
          "base_uri": "https://localhost:8080/"
        },
        "id": "YegMX20QkfwU",
        "outputId": "33de4b75-f857-4cb5-e380-52f0ef7ee9bd"
      },
      "execution_count": 29,
      "outputs": [
        {
          "output_type": "stream",
          "name": "stdout",
          "text": [
            "50\n"
          ]
        }
      ]
    },
    {
      "cell_type": "code",
      "source": [
        "print(a.count('Bhavleen'))"
      ],
      "metadata": {
        "colab": {
          "base_uri": "https://localhost:8080/"
        },
        "id": "5xt1VM6bkyv0",
        "outputId": "69ecbdb6-1c10-4697-d7f9-4179346d8a52"
      },
      "execution_count": 34,
      "outputs": [
        {
          "output_type": "stream",
          "name": "stdout",
          "text": [
            "0\n"
          ]
        }
      ]
    },
    {
      "cell_type": "code",
      "source": [
        "print(str1.endswith(\"!!!\"))"
      ],
      "metadata": {
        "colab": {
          "base_uri": "https://localhost:8080/"
        },
        "id": "HRpzQnJ2qtZj",
        "outputId": "772fee97-f6e8-4750-e0d8-f499e1495e04"
      },
      "execution_count": 35,
      "outputs": [
        {
          "output_type": "stream",
          "name": "stdout",
          "text": [
            "True\n"
          ]
        }
      ]
    },
    {
      "cell_type": "code",
      "source": [
        "print(str1.endswith(\"to\", 4, 10))"
      ],
      "metadata": {
        "colab": {
          "base_uri": "https://localhost:8080/"
        },
        "id": "aJsLVoULq5mv",
        "outputId": "ce935b92-88f2-4a3b-ff1f-bc76a6ba49d1"
      },
      "execution_count": 36,
      "outputs": [
        {
          "output_type": "stream",
          "name": "stdout",
          "text": [
            "True\n"
          ]
        }
      ]
    },
    {
      "cell_type": "code",
      "source": [
        "str1 = \"He is Dan. He is an honest man\"\n",
        "print(str1.find(\"is\"))"
      ],
      "metadata": {
        "colab": {
          "base_uri": "https://localhost:8080/"
        },
        "id": "EMhrlKw4rJMf",
        "outputId": "82ddae48-c6a0-4971-e0d2-3f46dc1498cd"
      },
      "execution_count": 37,
      "outputs": [
        {
          "output_type": "stream",
          "name": "stdout",
          "text": [
            "3\n"
          ]
        }
      ]
    },
    {
      "cell_type": "code",
      "source": [
        "print(str1.index(\"Dan\"))"
      ],
      "metadata": {
        "colab": {
          "base_uri": "https://localhost:8080/"
        },
        "id": "FrN7bZFSrf61",
        "outputId": "83f1bbc3-97d9-4840-b868-a2ad1d76794c"
      },
      "execution_count": 38,
      "outputs": [
        {
          "output_type": "stream",
          "name": "stdout",
          "text": [
            "6\n"
          ]
        }
      ]
    },
    {
      "cell_type": "code",
      "source": [
        "print(str1.isalnum())"
      ],
      "metadata": {
        "colab": {
          "base_uri": "https://localhost:8080/"
        },
        "id": "vcN7TjJdrk3u",
        "outputId": "24954091-f255-43c7-a5f5-917938e31491"
      },
      "execution_count": 40,
      "outputs": [
        {
          "output_type": "stream",
          "name": "stdout",
          "text": [
            "False\n"
          ]
        }
      ]
    },
    {
      "cell_type": "code",
      "source": [
        "print(str1.isalpha())"
      ],
      "metadata": {
        "colab": {
          "base_uri": "https://localhost:8080/"
        },
        "id": "a_KAJ4_xrmzZ",
        "outputId": "3adb7970-41cd-4ae4-8844-d9654ea91ec9"
      },
      "execution_count": 42,
      "outputs": [
        {
          "output_type": "stream",
          "name": "stdout",
          "text": [
            "False\n"
          ]
        }
      ]
    },
    {
      "cell_type": "code",
      "source": [
        "print(str1.islower())"
      ],
      "metadata": {
        "colab": {
          "base_uri": "https://localhost:8080/"
        },
        "id": "dtKmrHGhrvRg",
        "outputId": "ce13b2e5-380b-4932-d30c-a1c0b31fffc0"
      },
      "execution_count": 44,
      "outputs": [
        {
          "output_type": "stream",
          "name": "stdout",
          "text": [
            "False\n"
          ]
        }
      ]
    },
    {
      "cell_type": "code",
      "source": [
        "print(str1.isprintable()) #True if all the chars are printable. if there is an escape sequence for example then there will be false"
      ],
      "metadata": {
        "colab": {
          "base_uri": "https://localhost:8080/"
        },
        "id": "U56Yojc4r35O",
        "outputId": "0460d29c-793a-4b29-9a5f-1f3fbf20785d"
      },
      "execution_count": 47,
      "outputs": [
        {
          "output_type": "stream",
          "name": "stdout",
          "text": [
            "True\n"
          ]
        }
      ]
    },
    {
      "cell_type": "code",
      "source": [
        "print(str1.isspace())"
      ],
      "metadata": {
        "colab": {
          "base_uri": "https://localhost:8080/"
        },
        "id": "An7n7907sFO2",
        "outputId": "245af0f6-869b-4094-c044-13708acadf89"
      },
      "execution_count": 48,
      "outputs": [
        {
          "output_type": "stream",
          "name": "stdout",
          "text": [
            "False\n"
          ]
        }
      ]
    },
    {
      "cell_type": "code",
      "source": [
        "str2=\"  \"\n",
        "print(str2.isspace())"
      ],
      "metadata": {
        "colab": {
          "base_uri": "https://localhost:8080/"
        },
        "id": "Du4O0yLGsMAb",
        "outputId": "8a55e344-dbb0-48db-a53d-306bb41e20d0"
      },
      "execution_count": 49,
      "outputs": [
        {
          "output_type": "stream",
          "name": "stdout",
          "text": [
            "True\n"
          ]
        }
      ]
    },
    {
      "cell_type": "code",
      "source": [
        "print(str1.istitle())"
      ],
      "metadata": {
        "colab": {
          "base_uri": "https://localhost:8080/"
        },
        "id": "UKwXgMG6sTyT",
        "outputId": "53ae8bc5-c8d1-421e-c954-365d89412713"
      },
      "execution_count": 50,
      "outputs": [
        {
          "output_type": "stream",
          "name": "stdout",
          "text": [
            "False\n"
          ]
        }
      ]
    },
    {
      "cell_type": "code",
      "source": [
        "print(str1.isupper())"
      ],
      "metadata": {
        "colab": {
          "base_uri": "https://localhost:8080/"
        },
        "id": "sGS8awszsc8w",
        "outputId": "2cee1038-90b0-4c2b-b1b7-60fcac077d53"
      },
      "execution_count": 52,
      "outputs": [
        {
          "output_type": "stream",
          "name": "stdout",
          "text": [
            "False\n"
          ]
        }
      ]
    },
    {
      "cell_type": "code",
      "source": [
        "print(str1.startswith(\"Python\"))"
      ],
      "metadata": {
        "colab": {
          "base_uri": "https://localhost:8080/"
        },
        "id": "tdPNWNAwsfYS",
        "outputId": "5531a8fb-5e15-48f1-f5db-e150496d2d54"
      },
      "execution_count": 54,
      "outputs": [
        {
          "output_type": "stream",
          "name": "stdout",
          "text": [
            "False\n"
          ]
        }
      ]
    },
    {
      "cell_type": "code",
      "source": [
        "print(str1.swapcase())"
      ],
      "metadata": {
        "colab": {
          "base_uri": "https://localhost:8080/"
        },
        "id": "f6iJpb-sskKM",
        "outputId": "bd33931e-2614-43d4-dd3c-e58bf5eb49db"
      },
      "execution_count": 55,
      "outputs": [
        {
          "output_type": "stream",
          "name": "stdout",
          "text": [
            "hE IS dAN. hE IS AN HONEST MAN\n"
          ]
        }
      ]
    },
    {
      "cell_type": "code",
      "source": [
        "print(str1.title())"
      ],
      "metadata": {
        "colab": {
          "base_uri": "https://localhost:8080/"
        },
        "id": "9bdlXEAwssuh",
        "outputId": "51684473-f870-431e-e6ad-d4d830782722"
      },
      "execution_count": 56,
      "outputs": [
        {
          "output_type": "stream",
          "name": "stdout",
          "text": [
            "He Is Dan. He Is An Honest Man\n"
          ]
        }
      ]
    },
    {
      "cell_type": "markdown",
      "source": [
        "## **Exercise**"
      ],
      "metadata": {
        "id": "JzP6DnkKtgEG"
      }
    },
    {
      "cell_type": "code",
      "source": [
        "import time"
      ],
      "metadata": {
        "id": "aL5g-M6YtmJH"
      },
      "execution_count": 57,
      "outputs": []
    },
    {
      "cell_type": "code",
      "source": [
        "timestamp = time.strftime('%H:%M:%S')\n",
        "print(timestamp)"
      ],
      "metadata": {
        "colab": {
          "base_uri": "https://localhost:8080/"
        },
        "id": "YpT8GjDpsuT0",
        "outputId": "138fb803-6869-4fda-edfd-87670f7ca3e3"
      },
      "execution_count": 58,
      "outputs": [
        {
          "output_type": "stream",
          "name": "stdout",
          "text": [
            "04:20:55\n"
          ]
        }
      ]
    },
    {
      "cell_type": "code",
      "source": [
        "timestamp=time.strftime('%H')\n",
        "print(timestamp)"
      ],
      "metadata": {
        "colab": {
          "base_uri": "https://localhost:8080/"
        },
        "id": "HAhcRnjGtyhf",
        "outputId": "f03c7365-50d0-4f61-8e8e-d325703ab0d6"
      },
      "execution_count": 60,
      "outputs": [
        {
          "output_type": "stream",
          "name": "stdout",
          "text": [
            "04\n"
          ]
        }
      ]
    },
    {
      "cell_type": "code",
      "source": [
        "timestamp=time.strftime('%M')\n",
        "print(timestamp)"
      ],
      "metadata": {
        "colab": {
          "base_uri": "https://localhost:8080/"
        },
        "id": "0ZzjvZ5Pt8P6",
        "outputId": "9ef0f19f-3052-42d2-bf10-b8ed25c265eb"
      },
      "execution_count": 61,
      "outputs": [
        {
          "output_type": "stream",
          "name": "stdout",
          "text": [
            "22\n"
          ]
        }
      ]
    },
    {
      "cell_type": "code",
      "source": [
        "timestamp=time.strftime('%S')\n",
        "print(timestamp)"
      ],
      "metadata": {
        "colab": {
          "base_uri": "https://localhost:8080/"
        },
        "id": "GEdVHX6muCqc",
        "outputId": "ce04525f-6464-4cda-d8ea-395cf5883474"
      },
      "execution_count": 62,
      "outputs": [
        {
          "output_type": "stream",
          "name": "stdout",
          "text": [
            "27\n"
          ]
        }
      ]
    },
    {
      "cell_type": "markdown",
      "source": [
        "## **Match Case Statement**"
      ],
      "metadata": {
        "id": "uRwhCqqAuXZe"
      }
    },
    {
      "cell_type": "markdown",
      "source": [
        "### To implement switch-case like characteistics very similar to if-else functionality. It has 3 main entities:\n",
        "1. The match keyword\n",
        "2. One or more case causes\n",
        "3. Expression for each case"
      ],
      "metadata": {
        "id": "Dz40z0DtxTyR"
      }
    },
    {
      "cell_type": "code",
      "source": [
        "x = 4 # x is the vaeriable to match\n",
        "match x:\n",
        "  case 0:\n",
        "    print(\"x is zero\") # if x is zero\n",
        "  case 4 if x%2==0:\n",
        "    print(\"x%2==0 and case is 4\")\n",
        "  case _ if x<10: # ) is used for default case\n",
        "    print('x is less than 10')\n",
        "  case _ if x!=80:\n",
        "    print(\"x is not 80\")\n",
        "  case _:\n",
        "    print(x)"
      ],
      "metadata": {
        "colab": {
          "base_uri": "https://localhost:8080/"
        },
        "id": "GalupNuIuI6W",
        "outputId": "b68034a4-4c64-4eac-9201-0975662e1ace"
      },
      "execution_count": 67,
      "outputs": [
        {
          "output_type": "stream",
          "name": "stdout",
          "text": [
            "x%2==0 and case is 4\n"
          ]
        }
      ]
    },
    {
      "cell_type": "markdown",
      "source": [
        "## **For Loop**"
      ],
      "metadata": {
        "id": "zj1SrbAHzw71"
      }
    },
    {
      "cell_type": "code",
      "source": [
        "name = \"Bhavleen\"\n",
        "for i in name:\n",
        "  print(i)\n",
        "  if (i=='B'):\n",
        "    print(\"This is something special!\")"
      ],
      "metadata": {
        "colab": {
          "base_uri": "https://localhost:8080/"
        },
        "id": "bCl_guC8zze-",
        "outputId": "7c63af5b-a402-4f18-cf5e-4c8d2f286562"
      },
      "execution_count": 69,
      "outputs": [
        {
          "output_type": "stream",
          "name": "stdout",
          "text": [
            "B\n",
            "This is something special!\n",
            "h\n",
            "a\n",
            "v\n",
            "l\n",
            "e\n",
            "e\n",
            "n\n"
          ]
        }
      ]
    },
    {
      "cell_type": "code",
      "source": [
        "colors = [\"Red\", \"Green\", \"Blue\", \"Yellow\"]\n",
        "for color in colors:\n",
        "  print(color)\n",
        "  for i in color:\n",
        "    print(i)"
      ],
      "metadata": {
        "colab": {
          "base_uri": "https://localhost:8080/"
        },
        "id": "l0qzD2iTz-Ij",
        "outputId": "47fb77e5-074e-494b-e57f-36ed36ba6405"
      },
      "execution_count": 73,
      "outputs": [
        {
          "output_type": "stream",
          "name": "stdout",
          "text": [
            "Red\n",
            "R\n",
            "e\n",
            "d\n",
            "Green\n",
            "G\n",
            "r\n",
            "e\n",
            "e\n",
            "n\n",
            "Blue\n",
            "B\n",
            "l\n",
            "u\n",
            "e\n",
            "Yellow\n",
            "Y\n",
            "e\n",
            "l\n",
            "l\n",
            "o\n",
            "w\n"
          ]
        }
      ]
    },
    {
      "cell_type": "code",
      "source": [
        "for k in range(1,12,3):\n",
        "  print(k)"
      ],
      "metadata": {
        "colab": {
          "base_uri": "https://localhost:8080/"
        },
        "id": "Uyziti6X0alR",
        "outputId": "4b9d06f0-f3bd-4555-bee2-2df878c2d9c8"
      },
      "execution_count": 75,
      "outputs": [
        {
          "output_type": "stream",
          "name": "stdout",
          "text": [
            "1\n",
            "4\n",
            "7\n",
            "10\n"
          ]
        }
      ]
    },
    {
      "cell_type": "markdown",
      "source": [
        "## **While Loop**"
      ],
      "metadata": {
        "id": "FHFf-Sud0iwa"
      }
    },
    {
      "cell_type": "code",
      "source": [],
      "metadata": {
        "id": "ZX7yu34m0lnO"
      },
      "execution_count": null,
      "outputs": []
    }
  ]
}