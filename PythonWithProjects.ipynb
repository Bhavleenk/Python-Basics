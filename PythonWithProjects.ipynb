{
  "nbformat": 4,
  "nbformat_minor": 0,
  "metadata": {
    "colab": {
      "provenance": [],
      "authorship_tag": "ABX9TyNRRKzmPLEJ0igLMZIXdAFr",
      "include_colab_link": true
    },
    "kernelspec": {
      "name": "python3",
      "display_name": "Python 3"
    },
    "language_info": {
      "name": "python"
    }
  },
  "cells": [
    {
      "cell_type": "markdown",
      "metadata": {
        "id": "view-in-github",
        "colab_type": "text"
      },
      "source": [
        "<a href=\"https://colab.research.google.com/github/Bhavleenk/PythonWithProjects/blob/main/PythonWithProjects.ipynb\" target=\"_parent\"><img src=\"https://colab.research.google.com/assets/colab-badge.svg\" alt=\"Open In Colab\"/></a>"
      ]
    },
    {
      "cell_type": "markdown",
      "source": [
        "# **Modules** <br>\n",
        "### Module is like a code library which can be used to borrow the code writetn by somebody else in python program.\n",
        "## Two types :\n",
        "## **- Built-in**: Ready to import and use and ships with python interpreter, no need to install such modules.\n",
        "## **- External:** Imported from a third party file or can be installed using a package manager like pip or conda. Since this code is written by someone else, we can install different versions of a same module with time.\n",
        "\n",
        "## Note- Install a module using pip"
      ],
      "metadata": {
        "id": "965761X_FZXM"
      }
    },
    {
      "cell_type": "markdown",
      "source": [
        "## Using a Module in Python"
      ],
      "metadata": {
        "id": "VHvl91-cHfa7"
      }
    },
    {
      "cell_type": "code",
      "source": [
        "# import pandas\n",
        "# import hashlib\n",
        "# import tensorflow, etc."
      ],
      "metadata": {
        "id": "szlPOGwRHTsL"
      },
      "execution_count": null,
      "outputs": []
    },
    {
      "cell_type": "markdown",
      "source": [],
      "metadata": {
        "id": "q1D89fgiFgKi"
      }
    }
  ]
}